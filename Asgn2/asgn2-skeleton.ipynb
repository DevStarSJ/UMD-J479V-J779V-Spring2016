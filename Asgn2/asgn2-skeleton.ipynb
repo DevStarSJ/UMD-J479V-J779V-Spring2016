{
 "cells": [
  {
   "cell_type": "markdown",
   "metadata": {},
   "source": [
    "# Assignment 2 - Reproducible Data Analysis with Jupyter\n",
    "\n",
    "This skeleton notebook lays out the various questions and tasks that you need to undertake.\n",
    "\n",
    "Essential links:\n",
    "- College Scorecard: https://collegescorecard.ed.gov/\n",
    "- College Scorecard Data: https://collegescorecard.ed.gov/data/ (Use the data linked as \"Most Recent Data\")\n",
    "- Full data documentation: https://collegescorecard.ed.gov/assets/FullDataDocumentation.pdf\n",
    "- Data dictionary: https://collegescorecard.ed.gov/assets/CollegeScorecardDataDictionary-09-08-2015.csv\n",
    "\n",
    "Additional links:\n",
    "- Some background context on the college scorecard: http://www.nytimes.com/2015/09/13/us/with-website-to-research-colleges-obama-abandons-ranking-system.html\n",
    "- College Scorecard StackExchange: http://opendata.stackexchange.com/questions/tagged/collegescorecard\n"
   ]
  },
  {
   "cell_type": "code",
   "execution_count": 15,
   "metadata": {
    "collapsed": true
   },
   "outputs": [],
   "source": [
    "# Import libraries\n",
    "import pandas as pd\n",
    "import numpy as np\n",
    "import matplotlib\n",
    "import matplotlib.pyplot as plt\n",
    "\n",
    "# Makes it so that you can scroll horizontally to see all columns of an output DataFrame\n",
    "pd.set_option('display.max_columns', None)\n",
    "\n",
    "# This magic function allows you to see the charts directly within the notebook. \n",
    "%matplotlib inline\n",
    "\n",
    "# This command will make the plots more attractive by adopting the commone style of ggplot\n",
    "matplotlib.style.use(\"ggplot\")"
   ]
  },
  {
   "cell_type": "markdown",
   "metadata": {},
   "source": [
    "### Question 1. What percentage of undergraduate college students attend for-profit schools?"
   ]
  },
  {
   "cell_type": "code",
   "execution_count": null,
   "metadata": {
    "collapsed": true
   },
   "outputs": [],
   "source": []
  },
  {
   "cell_type": "markdown",
   "metadata": {},
   "source": [
    "### Question 2. In comparing \"public\", \"private\", and \"for-profit\" schools which type of school has the highest median completion rate for students? Create a bar chart that shows the comparison (be sure to use appropriately labeled axes, tick marks, title, and colors). "
   ]
  },
  {
   "cell_type": "code",
   "execution_count": null,
   "metadata": {
    "collapsed": true
   },
   "outputs": [],
   "source": []
  },
  {
   "cell_type": "markdown",
   "metadata": {},
   "source": [
    "### Question 3. Among predominently four-year schools, what is the median debt of graduates in dollars? Do men or women typically have higher debt and by how much?"
   ]
  },
  {
   "cell_type": "code",
   "execution_count": null,
   "metadata": {
    "collapsed": true
   },
   "outputs": [],
   "source": []
  },
  {
   "cell_type": "markdown",
   "metadata": {},
   "source": [
    "### Question 4. How do predominently four-year schools compare to predominently two-year schools in terms of the percentage of students that are unable to repay even $1 of their loan within three years of graduation? Amongst all four-year schools and excluding schools with a \"special focus\" according to the Carnegie classification, which school has the highest percentage of such students?"
   ]
  },
  {
   "cell_type": "code",
   "execution_count": null,
   "metadata": {
    "collapsed": true
   },
   "outputs": [],
   "source": []
  },
  {
   "cell_type": "markdown",
   "metadata": {},
   "source": [
    "### Question 5. Create two histogram charts in order to compare the average annual cost of attendance for four-year schools and two-year schools (be sure to include appropriate axes, labels, and titles on the charts)."
   ]
  },
  {
   "cell_type": "code",
   "execution_count": null,
   "metadata": {
    "collapsed": true
   },
   "outputs": [],
   "source": []
  },
  {
   "cell_type": "markdown",
   "metadata": {},
   "source": [
    "### Your Own Data-Driven Insight\n",
    "Come up with a unique insight by analyzing the data in a way that hasn't been considered in the previous questions. You might examine other variables or charting options for instance. Your insight should be easily stated in a sentence or two, or captured by a chart that could be similarly explained in a caption. Spend some time trying to make your insight something that could be a headline for a news article - that could entail some type of surprising result, social inequity, or implication for education policy. Be sure to show your entire code and process for deriving your insight. "
   ]
  },
  {
   "cell_type": "code",
   "execution_count": null,
   "metadata": {
    "collapsed": true
   },
   "outputs": [],
   "source": []
  },
  {
   "cell_type": "markdown",
   "metadata": {},
   "source": [
    "### Create a Ranking\n",
    "Take the first college ranking (i.e. \"Schools That Make Financial Sense\") discussed in the following article and \"re-create\" it as best you can using the original data to compute a rating score. Note the methodology at the end of the article carefully, but realize that your actual ratings and ranking will NOT exactly match the ranking shown in the article. The reason for this is that the filtering of schools was done qualitatively (by the journalist) and is therefore not repeatable in a data-driven way.\n",
    "\n",
    "- Obama Won't Rate Colleges, So We Did:  http://www.npr.org/sections/money/2015/09/18/440973097/obama-wont-rate-colleges-so-we-did\n",
    "\n",
    "From the article: \"A note about the data and methodology. We filtered for schools where the predominant degree granted is a four-year bachelor's degree. We also filter out trade-specific schools and religious programs like seminaries and yeshivas. There are also a few limitations to the income data that the government released. Incomes reported in the data set include only students who took out federal loans from the government. Each institution's score is based on a weighted sum of z-scores for each variable mentioned in the list. Ratings cannot be compared across lists.\""
   ]
  },
  {
   "cell_type": "code",
   "execution_count": null,
   "metadata": {
    "collapsed": true
   },
   "outputs": [],
   "source": []
  }
 ],
 "metadata": {
  "kernelspec": {
   "display_name": "Python 2",
   "language": "python",
   "name": "python2"
  },
  "language_info": {
   "codemirror_mode": {
    "name": "ipython",
    "version": 2
   },
   "file_extension": ".py",
   "mimetype": "text/x-python",
   "name": "python",
   "nbconvert_exporter": "python",
   "pygments_lexer": "ipython2",
   "version": "2.7.11"
  }
 },
 "nbformat": 4,
 "nbformat_minor": 0
}
