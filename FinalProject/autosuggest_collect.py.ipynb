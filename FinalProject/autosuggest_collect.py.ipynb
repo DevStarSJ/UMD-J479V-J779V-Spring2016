{
 "cells": [
  {
   "cell_type": "markdown",
   "metadata": {},
   "source": [
    "# Autosuggestion Collection\n",
    "This function handles the core process of collecting autosuggestion data from Google or Bing."
   ]
  },
  {
   "cell_type": "code",
   "execution_count": 2,
   "metadata": {
    "collapsed": false
   },
   "outputs": [],
   "source": [
    "import requests\n",
    "import urllib\n",
    "\n",
    "# ----------------------------------------------------------------------------------------------------------------\n",
    "# collect_autosuggestions\n",
    "#\n",
    "# parameters:\n",
    "# \"source\" is either \"google\" or \"bing\"\n",
    "# \"tld\" stands for \"top level domain\" and can be any of the 2-letter country codes listed here where google operates: https://en.wikipedia.org/wiki/ISO_3166-1_alpha-2\n",
    "# \"lang\" is the language of the suggestions returned, should be two letter codes from here: https://en.wikipedia.org/wiki/List_of_ISO_639-1_codes\n",
    "# \"query\" is the query that you would like to see autocompleted\n",
    "# ----------------------------------------------------------------------------------------------------------------\n",
    "\n",
    "def collect_autosuggestions(source, tld, lang, query):\n",
    "    if source == \"google\":\n",
    "        # Some info on this api: http://shreyaschand.com/blog/2013/01/03/google-autocomplete-api/\n",
    "        url = 'http://www.google.'+tld+'/complete/search?&client=firefox&%s' % (urllib.urlencode({'q': query.encode('utf-8'), 'hl': lang}))\n",
    "       \n",
    "    elif source == \"bing\":\n",
    "        # Note: for Bing the language is controlled by the tld, so the lang parameter will have no effect on its own\n",
    "        url = 'http://api.bing.com/osjson.aspx?%s' % (urllib.urlencode({'query': query.encode('utf-8'), 'cc': tld}))\n",
    "   \n",
    "    r = requests.get(url)\n",
    "    suggestions = r.json()[1]\n",
    "    return suggestions"
   ]
  },
  {
   "cell_type": "code",
   "execution_count": 10,
   "metadata": {
    "collapsed": false
   },
   "outputs": [
    {
     "name": "stdout",
     "output_type": "stream",
     "text": [
      "[u'hillary clinton', u'hillary clinton email', u'hillary clinton age', u'hillary clinton twitter', u'hillary clinton young', u'hillary clinton grammy', u'hillary clinton campaign', u'hillary clinton polls', u'hillary clinton news', u'hillary clinton memes']\n",
      "                 suggestion             datetime      search_term  tld  \\\n",
      "0           hillary clinton  2016-03-18 11:17:30  Hillary Clinton  com   \n",
      "1     hillary clinton email  2016-03-18 11:17:30  Hillary Clinton  com   \n",
      "2       hillary clinton age  2016-03-18 11:17:30  Hillary Clinton  com   \n",
      "3   hillary clinton twitter  2016-03-18 11:17:30  Hillary Clinton  com   \n",
      "4     hillary clinton young  2016-03-18 11:17:30  Hillary Clinton  com   \n",
      "5    hillary clinton grammy  2016-03-18 11:17:30  Hillary Clinton  com   \n",
      "6  hillary clinton campaign  2016-03-18 11:17:30  Hillary Clinton  com   \n",
      "7     hillary clinton polls  2016-03-18 11:17:30  Hillary Clinton  com   \n",
      "8      hillary clinton news  2016-03-18 11:17:30  Hillary Clinton  com   \n",
      "9     hillary clinton memes  2016-03-18 11:17:30  Hillary Clinton  com   \n",
      "\n",
      "  language  engine  \n",
      "0       en  google  \n",
      "1       en  google  \n",
      "2       en  google  \n",
      "3       en  google  \n",
      "4       en  google  \n",
      "5       en  google  \n",
      "6       en  google  \n",
      "7       en  google  \n",
      "8       en  google  \n",
      "9       en  google  \n"
     ]
    }
   ],
   "source": [
    "# Example of using the function to collect from google.com the english language suggestions for \"Hillary Clinton\"\n",
    "suggestions = collect_autosuggestions(\"google\", \"com\", \"en\", \"Hillary Clinton\")\n",
    "print suggestions\n",
    "\n",
    "# And example of putting data in Pandas dataframe and exporting the data to a .csv\n",
    "import pandas as pd\n",
    "import datetime\n",
    "\n",
    "suggestions_df = pd.DataFrame({\"suggestion\": suggestions})\n",
    "suggestions_df[\"datetime\"] = datetime.datetime.strftime(datetime.datetime.now(), '%Y-%m-%d %H:%M:%S')\n",
    "suggestions_df[\"search_term\"] = \"Hillary Clinton\"\n",
    "suggestions_df[\"tld\"] = \"com\"\n",
    "suggestions_df[\"language\"] = \"en\"\n",
    "suggestions_df[\"engine\"] = \"google\"\n",
    "print suggestions_df\n",
    "\n",
    "suggestions_df.to_csv(\"suggestions_test.csv\")"
   ]
  },
  {
   "cell_type": "code",
   "execution_count": null,
   "metadata": {
    "collapsed": true
   },
   "outputs": [],
   "source": []
  }
 ],
 "metadata": {
  "kernelspec": {
   "display_name": "Python 2",
   "language": "python",
   "name": "python2"
  },
  "language_info": {
   "codemirror_mode": {
    "name": "ipython",
    "version": 2
   },
   "file_extension": ".py",
   "mimetype": "text/x-python",
   "name": "python",
   "nbconvert_exporter": "python",
   "pygments_lexer": "ipython2",
   "version": "2.7.11"
  }
 },
 "nbformat": 4,
 "nbformat_minor": 0
}
