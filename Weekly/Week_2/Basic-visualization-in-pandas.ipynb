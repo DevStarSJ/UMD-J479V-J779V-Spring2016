{
 "cells": [
  {
   "cell_type": "markdown",
   "metadata": {},
   "source": [
    "# Basic Visualization in Pandas\n",
    "\n",
    "As you're doing exploratory analysis you'll often want to use some simple charts to visualize the data. Things we'll cover:\n",
    "- Line charts\n",
    "- Bar charts and Histograms\n",
    "- Scatterplots\n",
    "- Styling\n",
    "- Labeling / legends\n",
    "- Axes\n",
    "\n",
    "We won't cover these here, but there are many other visualization libraries that can be used in Jupyter notbeooks including:\n",
    "- [Bokeh](http://bokeh.pydata.org/en/latest/)\n",
    "- [Seaborn](https://github.com/mwaskom/seaborn)\n",
    "- [Plotly](https://plot.ly/python/)"
   ]
  },
  {
   "cell_type": "code",
   "execution_count": null,
   "metadata": {
    "collapsed": false
   },
   "outputs": [],
   "source": [
    "import pandas as pd\n",
    "import matplotlib\n",
    "import matplotlib.pyplot as plt\n",
    "import numpy as np\n",
    "\n",
    "# This magic function allows you to see the charts directly within the notebook. \n",
    "%matplotlib inline\n",
    "\n",
    "# This command will make the plots more attractive by adopting the commone style of of a different library called ggplot\n",
    "matplotlib.style.use(\"ggplot\")"
   ]
  },
  {
   "cell_type": "markdown",
   "metadata": {},
   "source": [
    "We can plot a list of numbers as a line chart very quickly with the `plt.plot` [function](http://matplotlib.org/api/pyplot_api.html#matplotlib.pyplot.plot). "
   ]
  },
  {
   "cell_type": "code",
   "execution_count": null,
   "metadata": {
    "collapsed": false
   },
   "outputs": [],
   "source": [
    "y = [1,2.5,6,20]\n",
    "plt.plot(y)"
   ]
  },
  {
   "cell_type": "markdown",
   "metadata": {},
   "source": [
    "And we can specify the x values in a separate list. "
   ]
  },
  {
   "cell_type": "code",
   "execution_count": null,
   "metadata": {
    "collapsed": false
   },
   "outputs": [],
   "source": [
    "x = [0,2,3,5]\n",
    "plt.plot(x,y)"
   ]
  },
  {
   "cell_type": "markdown",
   "metadata": {},
   "source": [
    "There are many styling options in the [documentation](http://matplotlib.org/api/pyplot_api.html#matplotlib.pyplot.plot). Color is the one of the more useful styles. There are some common abbreviations you can use for colors like \"b\" but you can also directly specify a color using its RGB hex representation, e.g. #aa77aa"
   ]
  },
  {
   "cell_type": "code",
   "execution_count": null,
   "metadata": {
    "collapsed": false
   },
   "outputs": [],
   "source": [
    "plt.plot(x,y, color=\"b\")"
   ]
  },
  {
   "cell_type": "code",
   "execution_count": null,
   "metadata": {
    "collapsed": false
   },
   "outputs": [],
   "source": [
    "plt.plot(x,y, color=\"#aa33aa\")"
   ]
  },
  {
   "cell_type": "markdown",
   "metadata": {},
   "source": [
    "You can also change the line style, and add a marker for each point."
   ]
  },
  {
   "cell_type": "code",
   "execution_count": null,
   "metadata": {
    "collapsed": false
   },
   "outputs": [],
   "source": [
    "plt.plot(x,y, color=\"b\", linestyle=\"--\", marker=\"o\")"
   ]
  },
  {
   "cell_type": "markdown",
   "metadata": {},
   "source": [
    "And you can add multiple series to the same plot, including a legend to keep track of what's what. "
   ]
  },
  {
   "cell_type": "code",
   "execution_count": null,
   "metadata": {
    "collapsed": false
   },
   "outputs": [],
   "source": [
    "plt.plot(x,y, color=\"b\", linestyle=\"--\", marker=\"o\", label=\"Series 1\")\n",
    "y2 = [10, 5, 10, 15]\n",
    "plt.plot(x,y2, color=\"r\", linestyle=\"--\", marker=\"o\", label = \"Series 2\")\n",
    "plt.legend(loc='best')"
   ]
  },
  {
   "cell_type": "markdown",
   "metadata": {
    "collapsed": true
   },
   "source": [
    "We can also customize the axes. "
   ]
  },
  {
   "cell_type": "code",
   "execution_count": null,
   "metadata": {
    "collapsed": false
   },
   "outputs": [],
   "source": [
    "plt.plot(x,y, color=\"b\", linestyle=\"--\", marker=\"o\", label=\"Series 1\")\n",
    "y2 = [10, 5, 10, 15]\n",
    "plt.plot(x,y2, color=\"r\", linestyle=\"--\", marker=\"o\", label = \"Series 2\")\n",
    "plt.legend(loc='best')\n",
    "\n",
    "axes = plt.gca()\n",
    "axes.set_xticks([0,2,4,6])\n",
    "axes.set_xticklabels(['zero', 'two', 'four', 'six'], rotation = 30)\n",
    "axes.set_yticks([0,5,10,15,20,25])"
   ]
  },
  {
   "cell_type": "markdown",
   "metadata": {},
   "source": [
    "Finally, we can set the size of a figure and save it to a file."
   ]
  },
  {
   "cell_type": "code",
   "execution_count": null,
   "metadata": {
    "collapsed": false
   },
   "outputs": [],
   "source": [
    "plt.plot(x,y, color=\"b\", linestyle=\"--\", marker=\"o\", label=\"Series 1\")\n",
    "plt.plot(x,y2, color=\"r\", linestyle=\"--\", marker=\"o\", label = \"Series 2\")\n",
    "plt.legend(loc='best')\n",
    "\n",
    "axes = plt.gca()\n",
    "axes.set_xticks([0,2,4,6])\n",
    "axes.set_xticklabels(['zero', 'two', 'four', 'six'], rotation = 30)\n",
    "axes.set_yticks([0,5,10,15,20,25])\n",
    "\n",
    "fig = plt.gcf()\n",
    "fig.set_size_inches(10,7)\n",
    "plt.savefig(\"chart.png\")"
   ]
  },
  {
   "cell_type": "markdown",
   "metadata": {},
   "source": [
    "### Charting Examples\n",
    "Pandas has plotting capabilities directly accessible (though under the hood it's still Matplotlib). Lots more examples can be found [here](http://pandas.pydata.org/pandas-docs/stable/visualization.html). Let's examine how to do some basic analysis and charting of the robocall dataset."
   ]
  },
  {
   "cell_type": "code",
   "execution_count": null,
   "metadata": {
    "collapsed": false
   },
   "outputs": [],
   "source": [
    "robocall_df = pd.read_csv(\"Data/Telemarketing_RoboCall_Weekly_Data_Transformed.csv\")\n",
    "robocall_df"
   ]
  },
  {
   "cell_type": "code",
   "execution_count": null,
   "metadata": {
    "collapsed": false
   },
   "outputs": [],
   "source": [
    "bar = robocall_df[\"issues\"].value_counts()\n",
    "print bar\n",
    "bar.plot(kind=\"barh\")"
   ]
  },
  {
   "cell_type": "code",
   "execution_count": null,
   "metadata": {
    "collapsed": false
   },
   "outputs": [],
   "source": [
    "bar = robocall_df[\"type_telemarketing\"].value_counts()\n",
    "bar.plot(kind=\"bar\", rot=30, color=\"r\")"
   ]
  },
  {
   "cell_type": "markdown",
   "metadata": {},
   "source": [
    "We'd like to know at what times of day these complaints are reported. A histogram would be helpful, so lets create one. "
   ]
  },
  {
   "cell_type": "code",
   "execution_count": null,
   "metadata": {
    "collapsed": false
   },
   "outputs": [],
   "source": [
    "# Create a new column that's just the hour of the day\n",
    "robocall_df[\"hour_of_day\"] = pd.DatetimeIndex(robocall_df[\"time_issued\"]).hour\n",
    "# Drop any rows in which the hour of the day is NaN\n",
    "robocall_df = robocall_df.dropna(subset=[\"hour_of_day\"])"
   ]
  },
  {
   "cell_type": "markdown",
   "metadata": {},
   "source": [
    "Pandas has some charting functions built-in, like [`DataFrame.hist()`](http://pandas.pydata.org/pandas-docs/version/0.17.1/generated/pandas.DataFrame.hist.html) which can be used to quickly create a matrix of histograms. "
   ]
  },
  {
   "cell_type": "code",
   "execution_count": null,
   "metadata": {
    "collapsed": false
   },
   "outputs": [],
   "source": [
    "robocall_df.hist(column=\"hour_of_day\", by=\"issues\", bins=24, figsize=(12,4), sharey=True)"
   ]
  },
  {
   "cell_type": "markdown",
   "metadata": {},
   "source": [
    "But if you want to stack histograms you have to approach things a bit differently. In the example below we first filter for two histograms we want to plot, and then pass them both explicitely to the plt.hist() function (which is slightly different from the hist() function that is available directly on a DataFrame). "
   ]
  },
  {
   "cell_type": "code",
   "execution_count": null,
   "metadata": {
    "collapsed": false
   },
   "outputs": [],
   "source": [
    "robocall_df_robo = robocall_df[robocall_df[\"issues\"]==\"Robocalls\"][\"hour_of_day\"]\n",
    "robocall_df_telemarketing = robocall_df[robocall_df[\"issues\"]==\"Telemarketing (including do not call and spoofing)\"][\"hour_of_day\"]\n",
    "plt.hist([robocall_df_robo, robocall_df_telemarketing], label=[\"Robocalls\", \"Telemarketing\"], bins=24, stacked=True, color=[\"#333333\", \"#888888\"])\n",
    "plt.legend(loc='best')\n",
    "\n",
    "axes = plt.gca()\n",
    "axes.set_xlabel(\"Hour of Day\")\n",
    "axes.set_xticks(np.arange(24))\n",
    "axes.set_xticklabels(np.arange(24), rotation = 0)\n",
    "\n",
    "fig = plt.gcf()\n",
    "fig.set_size_inches(12,4)"
   ]
  },
  {
   "cell_type": "markdown",
   "metadata": {},
   "source": [
    "If we want to show a smooth version of the histogram we could use an area chart. "
   ]
  },
  {
   "cell_type": "code",
   "execution_count": null,
   "metadata": {
    "collapsed": false
   },
   "outputs": [],
   "source": [
    "robocall_df[\"hour_of_day\"].value_counts().sort_index().plot(kind=\"area\")"
   ]
  },
  {
   "cell_type": "markdown",
   "metadata": {},
   "source": [
    "The robocalls dataset isn't well suited for creating a scatterplot because it's mostly categorical data, with some time variables. Instead let's load in a dataset of [AirBnb listings](http://insideairbnb.com/get-the-data.html) from the Washington, DC area. Here's the [csv file](http://data.insideairbnb.com/united-states/dc/washington-dc/2015-10-03/visualisations/listings.csv)."
   ]
  },
  {
   "cell_type": "code",
   "execution_count": null,
   "metadata": {
    "collapsed": false
   },
   "outputs": [],
   "source": [
    "airbnb_df = pd.read_csv(\"Data/airbnb_listings_dc.csv\")\n",
    "airbnb_df.sort_values(\"price\", ascending=False )"
   ]
  },
  {
   "cell_type": "markdown",
   "metadata": {},
   "source": [
    "A [scatterplot](http://pandas.pydata.org/pandas-docs/stable/visualization.html#scatter-plot) is a good way to check if there's a relationship between two variables. For example, we would expect there to be a connection between the number of reviews a listing has received and the number of reviews per month it receives. "
   ]
  },
  {
   "cell_type": "code",
   "execution_count": null,
   "metadata": {
    "collapsed": false
   },
   "outputs": [],
   "source": [
    "airbnb_df.plot(kind=\"scatter\", x=\"number_of_reviews\", y=\"reviews_per_month\")"
   ]
  },
  {
   "cell_type": "markdown",
   "metadata": {},
   "source": [
    "Of course there are many other types of charts that you can create with Pandas and/or Matplotlib, but you can accomplish a lot with line, bar, histogram, and scatterplots. For more ideas see the [Pandas documentation on visualization](http://pandas.pydata.org/pandas-docs/stable/visualization.html), or look into the libraries linked at the top of this notebook. "
   ]
  },
  {
   "cell_type": "code",
   "execution_count": null,
   "metadata": {
    "collapsed": true
   },
   "outputs": [],
   "source": []
  }
 ],
 "metadata": {
  "kernelspec": {
   "display_name": "Python 2",
   "language": "python",
   "name": "python2"
  },
  "language_info": {
   "codemirror_mode": {
    "name": "ipython",
    "version": 2
   },
   "file_extension": ".py",
   "mimetype": "text/x-python",
   "name": "python",
   "nbconvert_exporter": "python",
   "pygments_lexer": "ipython2",
   "version": "2.7.11"
  }
 },
 "nbformat": 4,
 "nbformat_minor": 0
}
